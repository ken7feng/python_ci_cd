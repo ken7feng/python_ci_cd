{
 "cells": [
  {
   "cell_type": "code",
   "execution_count": 10,
   "id": "ed87e168-9b8d-42a2-b8b2-99f6a756844c",
   "metadata": {},
   "outputs": [
    {
     "ename": "AttributeError",
     "evalue": "type object 'AgentType' has no attribute 'ZERO_SHOW_REACT_DESCRIPTION'",
     "output_type": "error",
     "traceback": [
      "\u001b[0;31m---------------------------------------------------------------------------\u001b[0m",
      "\u001b[0;31mAttributeError\u001b[0m                            Traceback (most recent call last)",
      "Cell \u001b[0;32mIn[10], line 24\u001b[0m\n\u001b[1;32m      9\u001b[0m tools \u001b[38;5;241m=\u001b[39m (\n\u001b[1;32m     10\u001b[0m     Tool(\n\u001b[1;32m     11\u001b[0m         name\u001b[38;5;241m=\u001b[39m\u001b[38;5;124m\"\u001b[39m\u001b[38;5;124mWeatherInfoTool\u001b[39m\u001b[38;5;124m\"\u001b[39m,\n\u001b[0;32m   (...)\u001b[0m\n\u001b[1;32m     14\u001b[0m     )\n\u001b[1;32m     15\u001b[0m )\n\u001b[1;32m     17\u001b[0m llm \u001b[38;5;241m=\u001b[39m ChatOpenAI(\n\u001b[1;32m     18\u001b[0m     base_url\u001b[38;5;241m=\u001b[39m\u001b[38;5;124m\"\u001b[39m\u001b[38;5;124mhttps://oneapi.laisky.com/v1\u001b[39m\u001b[38;5;124m\"\u001b[39m,\n\u001b[1;32m     19\u001b[0m     api_key\u001b[38;5;241m=\u001b[39m\u001b[38;5;124m\"\u001b[39m\u001b[38;5;124mlaisky-2MAnzWst5oUGYsZO82D9CbB1062b4c7199C03eD083848876\u001b[39m\u001b[38;5;124m\"\u001b[39m,\n\u001b[1;32m     20\u001b[0m     model\u001b[38;5;241m=\u001b[39m\u001b[38;5;124m\"\u001b[39m\u001b[38;5;124mgpt-4o-mini\u001b[39m\u001b[38;5;124m\"\u001b[39m,\n\u001b[1;32m     21\u001b[0m )\n\u001b[0;32m---> 24\u001b[0m agent \u001b[38;5;241m=\u001b[39m initialize_agent(tools, llm, agent \u001b[38;5;241m=\u001b[39m \u001b[43mAgentType\u001b[49m\u001b[38;5;241;43m.\u001b[39;49m\u001b[43mZERO_SHOW_REACT_DESCRIPTION\u001b[49m, verbose\u001b[38;5;241m=\u001b[39m\u001b[38;5;28;01mTrue\u001b[39;00m)\n\u001b[1;32m     26\u001b[0m re \u001b[38;5;241m=\u001b[39m agent\u001b[38;5;241m.\u001b[39mrun(\u001b[38;5;124m\"\u001b[39m\u001b[38;5;124m上海天气如何\u001b[39m\u001b[38;5;124m\"\u001b[39m)\n\u001b[1;32m     27\u001b[0m \u001b[38;5;28mprint\u001b[39m(rs)\n",
      "\u001b[0;31mAttributeError\u001b[0m: type object 'AgentType' has no attribute 'ZERO_SHOW_REACT_DESCRIPTION'"
     ]
    }
   ],
   "source": [
    "from langchain_openai import ChatOpenAI\n",
    "from langchain_core.messages import HumanMessage\n",
    "from langchain.agents import initialize_agent, Tool\n",
    "from langchain.agents import AgentType\n",
    "\n",
    "def get_city_weather_info(city : str):\n",
    "    return f\"{city} 晴 15°\"\n",
    "\n",
    "tools = (\n",
    "    Tool(\n",
    "        name=\"WeatherInfoTool\",\n",
    "        description=\"获取城市天气信息\",\n",
    "        func=get_city_weather_info\n",
    "    )\n",
    ")\n",
    "\n",
    "model = ChatOpenAI(\n",
    "    base_url=\"https://oneapi.laisky.com/v1\",\n",
    "    api_key=\"laisky-2MAnzWst5oUGYsZO82D9CbB1062b4c7199C03eD083848876\",\n",
    "    model=\"gpt-4o-mini\",\n",
    ")\n",
    "\n",
    "\n",
    "# agent = initialize_agent(tools, llm, agent = AgentType.ZERO_SHOW_REACT_DESCRIPTION, verbose=True)\n",
    "agent_executor = create_react_agent(model, tools)\n",
    "\n",
    "re = agent.run(\"上海天气如何\")\n",
    "print(rs)"
   ]
  },
  {
   "cell_type": "code",
   "execution_count": null,
   "id": "dfb7e579-41a7-4cc6-8b70-ac0930011846",
   "metadata": {},
   "outputs": [],
   "source": []
  }
 ],
 "metadata": {
  "kernelspec": {
   "display_name": "Python 3 (ipykernel)",
   "language": "python",
   "name": "python3"
  },
  "language_info": {
   "codemirror_mode": {
    "name": "ipython",
    "version": 3
   },
   "file_extension": ".py",
   "mimetype": "text/x-python",
   "name": "python",
   "nbconvert_exporter": "python",
   "pygments_lexer": "ipython3",
   "version": "3.12.2"
  }
 },
 "nbformat": 4,
 "nbformat_minor": 5
}
