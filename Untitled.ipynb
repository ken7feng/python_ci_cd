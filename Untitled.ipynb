{
 "cells": [
  {
   "cell_type": "code",
   "execution_count": 15,
   "id": "ed87e168-9b8d-42a2-b8b2-99f6a756844c",
   "metadata": {},
   "outputs": [
    {
     "name": "stdout",
     "output_type": "stream",
     "text": [
      "\n",
      "\n",
      "\u001b[1m> Entering new AgentExecutor chain...\u001b[0m\n",
      "\u001b[32;1m\u001b[1;3mI need to check the current weather information for Shanghai.  \n",
      "Action: WeatherTool  \n",
      "Action Input: \"上海\"  \u001b[0m\n",
      "Observation: \u001b[36;1m\u001b[1;3m上海 晴 15°\u001b[0m\n",
      "Thought:\u001b[32;1m\u001b[1;3mI now know the final answer  \n",
      "Final Answer: 上海的天气是晴，气温15°。\u001b[0m\n",
      "\n",
      "\u001b[1m> Finished chain.\u001b[0m\n",
      "上海的天气是晴，气温15°。\n"
     ]
    }
   ],
   "source": [
    "from langchain.agents import Tool, initialize_agent, AgentType\n",
    "from langchain.tools import tool\n",
    "from langchain.llms import OpenAI\n",
    "import requests\n",
    "\n",
    "def get_city_weather_info(city : str):\n",
    "    return f\"{city} 晴 15°\"\n",
    "\n",
    "\n",
    "def weather_tool(city: str) -> str:\n",
    "    \"\"\"通过城市名称获取当前天气信息\"\"\"\n",
    "    return get_city_weather_info(city)\n",
    "    \n",
    "tools = [\n",
    "    Tool(\n",
    "        name=\"WeatherTool\",\n",
    "        func=weather_tool,\n",
    "        description=\"用来获取指定城市的天气信息。\"\n",
    "    )\n",
    "]\n",
    "\n",
    "\n",
    "llm = ChatOpenAI(\n",
    "    base_url=\"https://oneapi.laisky.com/v1\",\n",
    "    api_key=\"laisky-2MAnzWst5oUGYsZO82D9CbB1062b4c7199C03eD083848876\",\n",
    "    model=\"gpt-4o-mini\",\n",
    ")\n",
    "\n",
    "\n",
    "agent = initialize_agent(\n",
    "    tools,\n",
    "    llm,\n",
    "    agent=AgentType.ZERO_SHOT_REACT_DESCRIPTION,\n",
    "    verbose=True,\n",
    ")\n",
    "\n",
    "rs = agent.run(\"上海天气如何\")\n",
    "print(rs)"
   ]
  },
  {
   "cell_type": "code",
   "execution_count": null,
   "id": "dfb7e579-41a7-4cc6-8b70-ac0930011846",
   "metadata": {},
   "outputs": [],
   "source": []
  }
 ],
 "metadata": {
  "kernelspec": {
   "display_name": "Python 3 (ipykernel)",
   "language": "python",
   "name": "python3"
  },
  "language_info": {
   "codemirror_mode": {
    "name": "ipython",
    "version": 3
   },
   "file_extension": ".py",
   "mimetype": "text/x-python",
   "name": "python",
   "nbconvert_exporter": "python",
   "pygments_lexer": "ipython3",
   "version": "3.12.2"
  }
 },
 "nbformat": 4,
 "nbformat_minor": 5
}
